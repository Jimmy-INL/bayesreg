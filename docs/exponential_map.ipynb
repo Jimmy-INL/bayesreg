{
 "cells": [
  {
   "cell_type": "code",
   "execution_count": 1,
   "metadata": {
    "collapsed": true
   },
   "outputs": [],
   "source": [
    "%matplotlib inline\n",
    "import seaborn as sns\n",
    "import matplotlib.pyplot as plt\n",
    "import numpy as np"
   ]
  },
  {
   "cell_type": "code",
   "execution_count": null,
   "metadata": {
    "collapsed": true
   },
   "outputs": [],
   "source": [
    "    x = np.random.normal(size = M)\n",
    "    r = np.linalg.norm(x)\n",
    "    x = x/r\n",
    "    t = np.random.normal(size = M)\n",
    "    t = t - np.dot(t,x) * x \n",
    "    t = t/np.linalg.norm(t)\n",
    "    s = np.linspace(0, 2*np.pi,F+1)\n",
    "    s = s[:-1]\n",
    "    t = np.outer(t,s)\n",
    "\n",
    "    D = t.shape[0]\n",
    "    theta = np.linalg.norm(t,axis = 0)\n",
    "    S = np.outer(x, np.cos(theta)) + t * np.repeat((np.sin(theta)/theta)[np.newaxis,:],D,axis=0)\n",
    "    S[:,0] = x\n",
    "    S = r * S\n",
    "    return S"
   ]
  },
  {
   "cell_type": "code",
   "execution_count": 28,
   "metadata": {
    "collapsed": false
   },
   "outputs": [
    {
     "name": "stderr",
     "output_type": "stream",
     "text": [
      "/Users/alfredogarbuno/anaconda2/envs/py2/lib/python2.7/site-packages/ipykernel/__main__.py:15: RuntimeWarning: invalid value encountered in divide\n"
     ]
    }
   ],
   "source": [
    "np.random.seed(1087)\n",
    "x = np.random.normal(size=2)\n",
    "r = np.linalg.norm(x)\n",
    "x = x/r\n",
    "u = np.random.normal(size=2)\n",
    "t = u - np.dot(u,x) * x \n",
    "v = t/np.linalg.norm(t)\n",
    "\n",
    "s = np.linspace(0, 2*np.pi,20+1)\n",
    "s = s[:-1]\n",
    "t = np.outer(v,s)\n",
    "\n",
    "D = t.shape[0]\n",
    "theta = np.linalg.norm(t,axis = 0)\n",
    "S = np.outer(x, np.cos(theta)) + t * np.repeat((np.sin(theta)/theta)[np.newaxis,:],D,axis=0)\n",
    "S[:,0] = x\n",
    "S = r * S"
   ]
  },
  {
   "cell_type": "code",
   "execution_count": 29,
   "metadata": {
    "collapsed": false
   },
   "outputs": [
    {
     "data": {
      "text/plain": [
       "(-2, 2)"
      ]
     },
     "execution_count": 29,
     "metadata": {},
     "output_type": "execute_result"
    },
    {
     "data": {
      "image/png": "[encoded data removed]",
      "text/plain": [
       "<matplotlib.figure.Figure at 0x11207a5d0>"
      ]
     },
     "metadata": {},
     "output_type": "display_data"
    }
   ],
   "source": [
    "plt.scatter(r*x[0],r*x[1], c = 'k', zorder = 2);\n",
    "plt.scatter(r*v[0],r*v[1], c = 'orange', zorder = 2);\n",
    "plt.scatter(S[0,range(20)], S[1,range(20)], c= 'r', zorder = 1)\n",
    "plt.ylim(-2,2)\n",
    "plt.xlim(-2,2)"
   ]
  },
  {
   "cell_type": "code",
   "execution_count": null,
   "metadata": {
    "collapsed": false
   },
   "outputs": [],
   "source": []
  },
  {
   "cell_type": "code",
   "execution_count": null,
   "metadata": {
    "collapsed": true
   },
   "outputs": [],
   "source": []
  },
  {
   "cell_type": "code",
   "execution_count": null,
   "metadata": {
    "collapsed": true
   },
   "outputs": [],
   "source": []
  }
 ],
 "metadata": {
  "kernelspec": {
   "display_name": "Python 2",
   "language": "python",
   "name": "python2"
  },
  "language_info": {
   "codemirror_mode": {
    "name": "ipython",
    "version": 2
   },
   "file_extension": ".py",
   "mimetype": "text/x-python",
   "name": "python",
   "nbconvert_exporter": "python",
   "pygments_lexer": "ipython2",
   "version": "2.7.13"
  }
 },
 "nbformat": 4,
 "nbformat_minor": 2
}
